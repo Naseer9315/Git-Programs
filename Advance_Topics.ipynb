{
 "cells": [
  {
   "cell_type": "markdown",
   "metadata": {},
   "source": [
    "## Concepts\n",
    "- Basics\n",
    "- Data Types &Conversions\n",
    "   - Conditional statements\n",
    "   - Looping Statement\n",
    "- External Packeges\n",
    "    - Math\n",
    "    - Regular Expressions\n",
    "\n",
    "- Control Statement\n",
    "    - Conditional Statement\n",
    "    - Looping Statement\n",
    "- Functional Programming    \n",
    "- File Handling\n",
    "    - Reading\n",
    "    - writing\n",
    "    - Perform the operations on the File\n",
    "- OOPS\n",
    "    - Class\n",
    "    - Objects\n",
    "    - Methods\n",
    "    - Constructors\n",
    "    - Inheritence\n",
    "- Exception handling\n",
    "- List Comprehances\n",
    "    \n"
   ]
  },
  {
   "cell_type": "markdown",
   "metadata": {},
   "source": [
    "## Functional Programming    \n",
    "- Reduce the complex of code\n",
    "- Resueable Block\n",
    "- Divides the lengthy program into sub blocks so that it is easy for read\n",
    "- Camel case (function name or variable name)"
   ]
  },
  {
   "cell_type": "code",
   "execution_count": null,
   "metadata": {},
   "outputs": [],
   "source": [
    "def funName(<parameter>):\n",
    "    return\n",
    "    "
   ]
  },
  {
   "cell_type": "code",
   "execution_count": 2,
   "metadata": {},
   "outputs": [
    {
     "name": "stdout",
     "output_type": "stream",
     "text": [
      "test() function...\n"
     ]
    }
   ],
   "source": [
    "def test():\n",
    "    print('test() function...')\n",
    "    return\n",
    "test()"
   ]
  },
  {
   "cell_type": "code",
   "execution_count": 3,
   "metadata": {},
   "outputs": [
    {
     "data": {
      "text/plain": [
       "'Dhyanahita'"
      ]
     },
     "execution_count": 3,
     "metadata": {},
     "output_type": "execute_result"
    }
   ],
   "source": [
    "def isTest():\n",
    "    return \"Dhyanahita\"\n",
    "isTest()"
   ]
  },
  {
   "cell_type": "code",
   "execution_count": 5,
   "metadata": {},
   "outputs": [
    {
     "data": {
      "text/plain": [
       "123"
      ]
     },
     "execution_count": 5,
     "metadata": {},
     "output_type": "execute_result"
    }
   ],
   "source": [
    "def isTestWork(x):\n",
    "    return x\n",
    "a = 123\n",
    "isTestWork(a)"
   ]
  },
  {
   "cell_type": "code",
   "execution_count": 9,
   "metadata": {},
   "outputs": [
    {
     "name": "stdout",
     "output_type": "stream",
     "text": [
      "[1, 2, 3] <class 'list'>\n"
     ]
    }
   ],
   "source": [
    "def isTestWork(x):\n",
    "    return x\n",
    "a =[1,2,3]\n",
    "print(isTestWork(a),type(a))"
   ]
  },
  {
   "cell_type": "code",
   "execution_count": 10,
   "metadata": {},
   "outputs": [
    {
     "data": {
      "text/plain": [
       "list"
      ]
     },
     "execution_count": 10,
     "metadata": {},
     "output_type": "execute_result"
    }
   ],
   "source": [
    "def inputTest(a):\n",
    "    return type(a)\n",
    "a = [1,2,3]\n",
    "inputTest(a)"
   ]
  },
  {
   "cell_type": "markdown",
   "metadata": {},
   "source": [
    "### Coding Standards\n",
    "- Variable Name : Use a lowercase single letter, word, or words. Separate words with underscores to improve readability.\n",
    "- Function Name : Function names should be lowercase, with words separated by underscores as necessary to improve readability. Use the function naming rules: lowercase with words separated by underscores as necessary to improve readability.\n",
    "- Constructor Name :__init__\n",
    "- Class Name :Start each word with a capital letter. Do not separate words with underscores. This style is called camel case.Demo()\n",
    "- import : import packagename\n",
    "- import : from pacakagename import function1,function2..."
   ]
  },
  {
   "cell_type": "markdown",
   "metadata": {},
   "source": [
    "# External Packages : import statement re,match,pandas mathlib...\n",
    "# Regular Expression Creating\n",
    "- Checking for number\n",
    "- checking the lower case and upper case\n",
    "- checking the special characters"
   ]
  },
  {
   "cell_type": "code",
   "execution_count": 11,
   "metadata": {},
   "outputs": [],
   "source": [
    "import re"
   ]
  },
  {
   "cell_type": "code",
   "execution_count": null,
   "metadata": {},
   "outputs": [],
   "source": [
    "def two_digit_number(n):\n",
    "    pattren='^[0-9]{2}$'\n",
    "    \n",
    "    "
   ]
  },
  {
   "cell_type": "code",
   "execution_count": 12,
   "metadata": {},
   "outputs": [
    {
     "name": "stdout",
     "output_type": "stream",
     "text": [
      "True\n",
      "False\n"
     ]
    }
   ],
   "source": [
    "#username alidation\n",
    "def username_validate(uname):\n",
    "    pattren='^[A-Z][a-z A-Z]{5,11}$'\n",
    "    if re.match(pattren,uname):\n",
    "        return True\n",
    "    return False\n",
    "print(username_validate('Naseer'))\n",
    "print(username_validate('naseer'))\n"
   ]
  },
  {
   "cell_type": "code",
   "execution_count": 16,
   "metadata": {},
   "outputs": [
    {
     "name": "stdout",
     "output_type": "stream",
     "text": [
      "False\n",
      "False\n"
     ]
    }
   ],
   "source": [
    "#validate -DHS00123\n",
    "#- DHS1230 DHS00999\n",
    "def userid_validate(uid):\n",
    "    pattren='^[D][H][S][0]{2}[1-9][2-9][0-9]{3}$'\n",
    "    if re.match(pattren,uid):\n",
    "        return True\n",
    "    return False\n",
    "print(userid_validate('DHS00123'))\n",
    "print(userid_validate('DHs00123'))"
   ]
  },
  {
   "cell_type": "code",
   "execution_count": 18,
   "metadata": {},
   "outputs": [
    {
     "name": "stdout",
     "output_type": "stream",
     "text": [
      "True\n",
      "True\n",
      "True\n"
     ]
    }
   ],
   "source": [
    "#indian mobile number\n",
    "def mobile_number(mnum):\n",
    "    pattren='^[+][9][1][-][6-9][0-9]{9}|^[6-9][0-9]{9}|^[0][6-9][0-9]{9}$'\n",
    "    if re.match(pattren,mnum):\n",
    "        return True\n",
    "    return False\n",
    "print(mobile_number('6988776644'))\n",
    "print(mobile_number('09988776644'))\n",
    "print(mobile_number('+91-9988776644'))"
   ]
  },
  {
   "cell_type": "code",
   "execution_count": 19,
   "metadata": {},
   "outputs": [
    {
     "name": "stdout",
     "output_type": "stream",
     "text": [
      "True\n",
      "True\n",
      "False\n"
     ]
    }
   ],
   "source": [
    "#indian mobile number\n",
    "def mobile_number(mnum):\n",
    "    pattren='^[0]|[6-9]|[+][9][1][-][0-9]{9}$'\n",
    "    if re.match(pattren,mnum):\n",
    "        return True\n",
    "    return False\n",
    "print(mobile_number('6988776644'))\n",
    "print(mobile_number('09988776644'))\n",
    "print(mobile_number('+91-9988776644'))"
   ]
  },
  {
   "cell_type": "code",
   "execution_count": 25,
   "metadata": {},
   "outputs": [
    {
     "name": "stdout",
     "output_type": "stream",
     "text": [
      "True\n"
     ]
    }
   ],
   "source": [
    "#username vaidate\n",
    "#should need to contain one upper letter\n",
    "# 6 lower case ,1 digit\n",
    "def username_valid(uid):\n",
    "    pattren='^[A-Z][a-z]{6}[0-9]$'\n",
    "    if re.match(pattren,uid):\n",
    "        return True\n",
    "    return False\n",
    "print(username_valid('Naseeru1'))"
   ]
  },
  {
   "cell_type": "code",
   "execution_count": null,
   "metadata": {},
   "outputs": [],
   "source": []
  },
  {
   "cell_type": "code",
   "execution_count": null,
   "metadata": {},
   "outputs": [],
   "source": []
  },
  {
   "cell_type": "code",
   "execution_count": null,
   "metadata": {},
   "outputs": [],
   "source": []
  },
  {
   "cell_type": "code",
   "execution_count": null,
   "metadata": {},
   "outputs": [],
   "source": []
  },
  {
   "cell_type": "code",
   "execution_count": null,
   "metadata": {},
   "outputs": [],
   "source": []
  },
  {
   "cell_type": "code",
   "execution_count": null,
   "metadata": {},
   "outputs": [],
   "source": []
  },
  {
   "cell_type": "code",
   "execution_count": null,
   "metadata": {},
   "outputs": [],
   "source": []
  },
  {
   "cell_type": "code",
   "execution_count": null,
   "metadata": {},
   "outputs": [],
   "source": []
  },
  {
   "cell_type": "code",
   "execution_count": null,
   "metadata": {},
   "outputs": [],
   "source": []
  },
  {
   "cell_type": "code",
   "execution_count": null,
   "metadata": {},
   "outputs": [],
   "source": []
  },
  {
   "cell_type": "code",
   "execution_count": null,
   "metadata": {},
   "outputs": [],
   "source": []
  },
  {
   "cell_type": "code",
   "execution_count": null,
   "metadata": {},
   "outputs": [],
   "source": []
  },
  {
   "cell_type": "code",
   "execution_count": null,
   "metadata": {},
   "outputs": [],
   "source": []
  },
  {
   "cell_type": "code",
   "execution_count": null,
   "metadata": {},
   "outputs": [],
   "source": []
  },
  {
   "cell_type": "code",
   "execution_count": null,
   "metadata": {},
   "outputs": [],
   "source": []
  },
  {
   "cell_type": "code",
   "execution_count": null,
   "metadata": {},
   "outputs": [],
   "source": []
  },
  {
   "cell_type": "code",
   "execution_count": null,
   "metadata": {},
   "outputs": [],
   "source": []
  },
  {
   "cell_type": "code",
   "execution_count": null,
   "metadata": {},
   "outputs": [],
   "source": []
  },
  {
   "cell_type": "code",
   "execution_count": null,
   "metadata": {},
   "outputs": [],
   "source": []
  }
 ],
 "metadata": {
  "kernelspec": {
   "display_name": "Python 3",
   "language": "python",
   "name": "python3"
  },
  "language_info": {
   "codemirror_mode": {
    "name": "ipython",
    "version": 3
   },
   "file_extension": ".py",
   "mimetype": "text/x-python",
   "name": "python",
   "nbconvert_exporter": "python",
   "pygments_lexer": "ipython3",
   "version": "3.7.4"
  }
 },
 "nbformat": 4,
 "nbformat_minor": 2
}
